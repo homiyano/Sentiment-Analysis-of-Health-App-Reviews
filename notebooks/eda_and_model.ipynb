{
 "cells": [
  {
   "cell_type": "code",
   "execution_count": 2,
   "id": "109ba73d",
   "metadata": {},
   "outputs": [
    {
     "name": "stdout",
     "output_type": "stream",
     "text": [
      "Sentiment\n",
      "Positive    1754\n",
      "Negative     257\n",
      "Neutral      238\n",
      "Name: count, dtype: int64\n",
      "                                                  App  \\\n",
      "1939  Fooducate Healthy Weight Loss & Calorie Counter   \n",
      "1673                    Down Dog: Great Yoga Anywhere   \n",
      "4                               10 Best Foods for You   \n",
      "1249                   Calorie Counter - MyFitnessPal   \n",
      "867                    Calorie Counter & Diet Tracker   \n",
      "\n",
      "                                      Translated_Review Sentiment  \n",
      "1939                       Love explains product rating  Positive  \n",
      "1673  This changed life saved tired back.. I can't a...  Positive  \n",
      "4                                              Best way  Positive  \n",
      "1249  I love app. I Samsung phone naturally I also S...  Positive  \n",
      "867   The pop-up ads beyond annoying. Also I'd reall...  Negative  \n"
     ]
    }
   ],
   "source": [
    "import pandas as pd\n",
    "\n",
    "# Load metadata and reviews\n",
    "apps = pd.read_csv(\"../data/googleplaystore.csv\")\n",
    "reviews = pd.read_csv(\"../data/googleplaystore_user_reviews.csv\")\n",
    "\n",
    "# Clean: drop rows with missing values in important columns\n",
    "reviews = reviews.dropna(subset=[\"Translated_Review\", \"Sentiment\"])\n",
    "reviews = reviews[reviews[\"Sentiment\"].isin([\"Positive\", \"Negative\", \"Neutral\"])]\n",
    "\n",
    "# Get health apps\n",
    "health_apps = apps[apps[\"Category\"] == \"HEALTH_AND_FITNESS\"][\"App\"].unique()\n",
    "\n",
    "# Filter reviews to only include those from health apps\n",
    "health_reviews = reviews[reviews[\"App\"].isin(health_apps)]\n",
    "\n",
    "# Reset index\n",
    "health_reviews = health_reviews.reset_index(drop=True)\n",
    "\n",
    "# Optional: check result\n",
    "print(health_reviews[\"Sentiment\"].value_counts())\n",
    "print(health_reviews.sample(5)[[\"App\", \"Translated_Review\", \"Sentiment\"]])\n"
   ]
  },
  {
   "cell_type": "code",
   "execution_count": 5,
   "id": "8db8bd1e",
   "metadata": {},
   "outputs": [
    {
     "name": "stdout",
     "output_type": "stream",
     "text": [
      "{'Negative': np.int64(0), 'Neutral': np.int64(1), 'Positive': np.int64(2)}\n"
     ]
    }
   ],
   "source": [
    "from sklearn.preprocessing import LabelEncoder\n",
    "\n",
    "# Initialize label encoder and fit to sentiment\n",
    "le = LabelEncoder()\n",
    "health_reviews[\"label\"] = le.fit_transform(health_reviews[\"Sentiment\"])\n",
    "\n",
    "# Map: Positive → 2, Negative → 0, Neutral → 1\n",
    "print(dict(zip(le.classes_, le.transform(le.classes_))))\n"
   ]
  },
  {
   "cell_type": "code",
   "execution_count": 4,
   "id": "c892d81d",
   "metadata": {},
   "outputs": [],
   "source": [
    "import re\n",
    "\n",
    "def clean_text(text):\n",
    "    text = text.lower()\n",
    "    text = re.sub(r\"[^\\w\\s]\", \"\", text)  # Remove punctuation\n",
    "    text = re.sub(r\"\\d+\", \"\", text)      # Remove numbers\n",
    "    return text\n",
    "\n",
    "health_reviews[\"clean_review\"] = health_reviews[\"Translated_Review\"].apply(clean_text)\n"
   ]
  },
  {
   "cell_type": "code",
   "execution_count": null,
   "id": "bcf9e28d",
   "metadata": {},
   "outputs": [],
   "source": [
    "from sklearn.model_selection import train_test_split\n",
    "\n",
    "X = health_reviews[\"Translated_Review\"]       # or use \"clean_review\"\n",
    "y = health_reviews[\"label\"]\n",
    "\n",
    "X_train, X_test, y_train, y_test = train_test_split(\n",
    "    X, y, test_size=0.2, stratify=y, random_state=42\n",
    ")\n",
    "\n",
    "print(f\"Train size: {len(X_train)}\")\n",
    "print(f\"Test size: {len(X_test)}\")\n"
   ]
  }
 ],
 "metadata": {
  "kernelspec": {
   "display_name": "venv",
   "language": "python",
   "name": "python3"
  },
  "language_info": {
   "codemirror_mode": {
    "name": "ipython",
    "version": 3
   },
   "file_extension": ".py",
   "mimetype": "text/x-python",
   "name": "python",
   "nbconvert_exporter": "python",
   "pygments_lexer": "ipython3",
   "version": "3.10.0"
  }
 },
 "nbformat": 4,
 "nbformat_minor": 5
}
