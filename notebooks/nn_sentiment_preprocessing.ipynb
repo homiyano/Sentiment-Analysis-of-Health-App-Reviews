{
 "cells": [
  {
   "cell_type": "code",
   "execution_count": 1,
   "id": "2c1b3d1a",
   "metadata": {},
   "outputs": [
    {
     "data": {
      "text/plain": [
       "Sentiment\n",
       "Positive    23998\n",
       "Negative     8271\n",
       "Neutral      5158\n",
       "Name: count, dtype: int64"
      ]
     },
     "execution_count": 1,
     "metadata": {},
     "output_type": "execute_result"
    }
   ],
   "source": [
    "import pandas as pd\n",
    "\n",
    "# Load full review dataset\n",
    "df = pd.read_csv(\"../data/googleplaystore_user_reviews.csv\")\n",
    "\n",
    "# Drop missing values\n",
    "df = df.dropna(subset=[\"Translated_Review\", \"Sentiment\"])\n",
    "\n",
    "# Keep only the three main classes\n",
    "df = df[df[\"Sentiment\"].isin([\"Positive\", \"Negative\", \"Neutral\"])]\n",
    "\n",
    "# Reset index\n",
    "df = df.reset_index(drop=True)\n",
    "\n",
    "# Check class balance\n",
    "df[\"Sentiment\"].value_counts()\n"
   ]
  },
  {
   "cell_type": "code",
   "execution_count": null,
   "id": "98898d32",
   "metadata": {},
   "outputs": [],
   "source": [
    "import matplotlib.pyplot as plt\n",
    "import seaborn as sns\n",
    "\n",
    "sns.countplot(x=\"Sentiment\", data=df)\n",
    "plt.title(\"Sentiment Distribution in All App Reviews\")\n",
    "plt.show()\n"
   ]
  }
 ],
 "metadata": {
  "kernelspec": {
   "display_name": "venv",
   "language": "python",
   "name": "python3"
  },
  "language_info": {
   "codemirror_mode": {
    "name": "ipython",
    "version": 3
   },
   "file_extension": ".py",
   "mimetype": "text/x-python",
   "name": "python",
   "nbconvert_exporter": "python",
   "pygments_lexer": "ipython3",
   "version": "3.10.0"
  }
 },
 "nbformat": 4,
 "nbformat_minor": 5
}
